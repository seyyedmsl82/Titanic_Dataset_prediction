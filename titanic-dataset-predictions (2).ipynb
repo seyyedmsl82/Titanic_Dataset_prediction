{
 "cells": [
  {
   "cell_type": "code",
   "execution_count": 1,
   "id": "dbe272d7",
   "metadata": {
    "_cell_guid": "b1076dfc-b9ad-4769-8c92-a6c4dae69d19",
    "_uuid": "8f2839f25d086af736a60e9eeb907d3b93b6e0e5",
    "execution": {
     "iopub.execute_input": "2023-07-03T20:43:36.907896Z",
     "iopub.status.busy": "2023-07-03T20:43:36.907492Z",
     "iopub.status.idle": "2023-07-03T20:43:36.917335Z",
     "shell.execute_reply": "2023-07-03T20:43:36.916167Z"
    },
    "papermill": {
     "duration": 0.021645,
     "end_time": "2023-07-03T20:43:36.920132",
     "exception": false,
     "start_time": "2023-07-03T20:43:36.898487",
     "status": "completed"
    },
    "tags": []
   },
   "outputs": [],
   "source": [
    "import numpy as np\n",
    "import pandas as pd\n",
    "import matplotlib.pyplot as plt"
   ]
  },
  {
   "cell_type": "code",
   "execution_count": 2,
   "id": "2ce4e2ee",
   "metadata": {
    "execution": {
     "iopub.execute_input": "2023-07-03T20:43:36.934861Z",
     "iopub.status.busy": "2023-07-03T20:43:36.934505Z",
     "iopub.status.idle": "2023-07-03T20:43:36.958335Z",
     "shell.execute_reply": "2023-07-03T20:43:36.957565Z"
    },
    "papermill": {
     "duration": 0.033807,
     "end_time": "2023-07-03T20:43:36.960645",
     "exception": false,
     "start_time": "2023-07-03T20:43:36.926838",
     "status": "completed"
    },
    "tags": []
   },
   "outputs": [],
   "source": [
    "train_df = pd.read_csv(\"../input/titanic/train.csv\")\n",
    "test_df = pd.read_csv(\"../input/titanic/test.csv\")"
   ]
  },
  {
   "cell_type": "markdown",
   "id": "3d3f2bc6",
   "metadata": {
    "execution": {
     "iopub.execute_input": "2022-11-14T19:48:32.736828Z",
     "iopub.status.busy": "2022-11-14T19:48:32.736408Z",
     "iopub.status.idle": "2022-11-14T19:48:32.742502Z",
     "shell.execute_reply": "2022-11-14T19:48:32.741079Z",
     "shell.execute_reply.started": "2022-11-14T19:48:32.736781Z"
    },
    "papermill": {
     "duration": 0.006361,
     "end_time": "2023-07-03T20:43:36.974035",
     "exception": false,
     "start_time": "2023-07-03T20:43:36.967674",
     "status": "completed"
    },
    "tags": []
   },
   "source": [
    "# Understanding Data"
   ]
  },
  {
   "cell_type": "code",
   "execution_count": 3,
   "id": "8ed505d1",
   "metadata": {
    "execution": {
     "iopub.execute_input": "2023-07-03T20:43:36.988604Z",
     "iopub.status.busy": "2023-07-03T20:43:36.988263Z",
     "iopub.status.idle": "2023-07-03T20:43:37.014243Z",
     "shell.execute_reply": "2023-07-03T20:43:37.013329Z"
    },
    "papermill": {
     "duration": 0.035779,
     "end_time": "2023-07-03T20:43:37.016274",
     "exception": false,
     "start_time": "2023-07-03T20:43:36.980495",
     "status": "completed"
    },
    "tags": []
   },
   "outputs": [
    {
     "data": {
      "text/html": [
       "<div>\n",
       "<style scoped>\n",
       "    .dataframe tbody tr th:only-of-type {\n",
       "        vertical-align: middle;\n",
       "    }\n",
       "\n",
       "    .dataframe tbody tr th {\n",
       "        vertical-align: top;\n",
       "    }\n",
       "\n",
       "    .dataframe thead th {\n",
       "        text-align: right;\n",
       "    }\n",
       "</style>\n",
       "<table border=\"1\" class=\"dataframe\">\n",
       "  <thead>\n",
       "    <tr style=\"text-align: right;\">\n",
       "      <th></th>\n",
       "      <th>PassengerId</th>\n",
       "      <th>Survived</th>\n",
       "      <th>Pclass</th>\n",
       "      <th>Name</th>\n",
       "      <th>Sex</th>\n",
       "      <th>Age</th>\n",
       "      <th>SibSp</th>\n",
       "      <th>Parch</th>\n",
       "      <th>Ticket</th>\n",
       "      <th>Fare</th>\n",
       "      <th>Cabin</th>\n",
       "      <th>Embarked</th>\n",
       "    </tr>\n",
       "  </thead>\n",
       "  <tbody>\n",
       "    <tr>\n",
       "      <th>0</th>\n",
       "      <td>1</td>\n",
       "      <td>0</td>\n",
       "      <td>3</td>\n",
       "      <td>Braund, Mr. Owen Harris</td>\n",
       "      <td>male</td>\n",
       "      <td>22.0</td>\n",
       "      <td>1</td>\n",
       "      <td>0</td>\n",
       "      <td>A/5 21171</td>\n",
       "      <td>7.2500</td>\n",
       "      <td>NaN</td>\n",
       "      <td>S</td>\n",
       "    </tr>\n",
       "    <tr>\n",
       "      <th>1</th>\n",
       "      <td>2</td>\n",
       "      <td>1</td>\n",
       "      <td>1</td>\n",
       "      <td>Cumings, Mrs. John Bradley (Florence Briggs Th...</td>\n",
       "      <td>female</td>\n",
       "      <td>38.0</td>\n",
       "      <td>1</td>\n",
       "      <td>0</td>\n",
       "      <td>PC 17599</td>\n",
       "      <td>71.2833</td>\n",
       "      <td>C85</td>\n",
       "      <td>C</td>\n",
       "    </tr>\n",
       "    <tr>\n",
       "      <th>2</th>\n",
       "      <td>3</td>\n",
       "      <td>1</td>\n",
       "      <td>3</td>\n",
       "      <td>Heikkinen, Miss. Laina</td>\n",
       "      <td>female</td>\n",
       "      <td>26.0</td>\n",
       "      <td>0</td>\n",
       "      <td>0</td>\n",
       "      <td>STON/O2. 3101282</td>\n",
       "      <td>7.9250</td>\n",
       "      <td>NaN</td>\n",
       "      <td>S</td>\n",
       "    </tr>\n",
       "    <tr>\n",
       "      <th>3</th>\n",
       "      <td>4</td>\n",
       "      <td>1</td>\n",
       "      <td>1</td>\n",
       "      <td>Futrelle, Mrs. Jacques Heath (Lily May Peel)</td>\n",
       "      <td>female</td>\n",
       "      <td>35.0</td>\n",
       "      <td>1</td>\n",
       "      <td>0</td>\n",
       "      <td>113803</td>\n",
       "      <td>53.1000</td>\n",
       "      <td>C123</td>\n",
       "      <td>S</td>\n",
       "    </tr>\n",
       "    <tr>\n",
       "      <th>4</th>\n",
       "      <td>5</td>\n",
       "      <td>0</td>\n",
       "      <td>3</td>\n",
       "      <td>Allen, Mr. William Henry</td>\n",
       "      <td>male</td>\n",
       "      <td>35.0</td>\n",
       "      <td>0</td>\n",
       "      <td>0</td>\n",
       "      <td>373450</td>\n",
       "      <td>8.0500</td>\n",
       "      <td>NaN</td>\n",
       "      <td>S</td>\n",
       "    </tr>\n",
       "  </tbody>\n",
       "</table>\n",
       "</div>"
      ],
      "text/plain": [
       "   PassengerId  Survived  Pclass  \\\n",
       "0            1         0       3   \n",
       "1            2         1       1   \n",
       "2            3         1       3   \n",
       "3            4         1       1   \n",
       "4            5         0       3   \n",
       "\n",
       "                                                Name     Sex   Age  SibSp  \\\n",
       "0                            Braund, Mr. Owen Harris    male  22.0      1   \n",
       "1  Cumings, Mrs. John Bradley (Florence Briggs Th...  female  38.0      1   \n",
       "2                             Heikkinen, Miss. Laina  female  26.0      0   \n",
       "3       Futrelle, Mrs. Jacques Heath (Lily May Peel)  female  35.0      1   \n",
       "4                           Allen, Mr. William Henry    male  35.0      0   \n",
       "\n",
       "   Parch            Ticket     Fare Cabin Embarked  \n",
       "0      0         A/5 21171   7.2500   NaN        S  \n",
       "1      0          PC 17599  71.2833   C85        C  \n",
       "2      0  STON/O2. 3101282   7.9250   NaN        S  \n",
       "3      0            113803  53.1000  C123        S  \n",
       "4      0            373450   8.0500   NaN        S  "
      ]
     },
     "execution_count": 3,
     "metadata": {},
     "output_type": "execute_result"
    }
   ],
   "source": [
    "train_df.head()"
   ]
  },
  {
   "cell_type": "code",
   "execution_count": 4,
   "id": "2376aa14",
   "metadata": {
    "execution": {
     "iopub.execute_input": "2023-07-03T20:43:37.032615Z",
     "iopub.status.busy": "2023-07-03T20:43:37.032235Z",
     "iopub.status.idle": "2023-07-03T20:43:37.068362Z",
     "shell.execute_reply": "2023-07-03T20:43:37.067221Z"
    },
    "papermill": {
     "duration": 0.047321,
     "end_time": "2023-07-03T20:43:37.070158",
     "exception": false,
     "start_time": "2023-07-03T20:43:37.022837",
     "status": "completed"
    },
    "tags": []
   },
   "outputs": [
    {
     "data": {
      "text/html": [
       "<div>\n",
       "<style scoped>\n",
       "    .dataframe tbody tr th:only-of-type {\n",
       "        vertical-align: middle;\n",
       "    }\n",
       "\n",
       "    .dataframe tbody tr th {\n",
       "        vertical-align: top;\n",
       "    }\n",
       "\n",
       "    .dataframe thead th {\n",
       "        text-align: right;\n",
       "    }\n",
       "</style>\n",
       "<table border=\"1\" class=\"dataframe\">\n",
       "  <thead>\n",
       "    <tr style=\"text-align: right;\">\n",
       "      <th></th>\n",
       "      <th>PassengerId</th>\n",
       "      <th>Survived</th>\n",
       "      <th>Pclass</th>\n",
       "      <th>Age</th>\n",
       "      <th>SibSp</th>\n",
       "      <th>Parch</th>\n",
       "      <th>Fare</th>\n",
       "    </tr>\n",
       "  </thead>\n",
       "  <tbody>\n",
       "    <tr>\n",
       "      <th>count</th>\n",
       "      <td>891.000000</td>\n",
       "      <td>891.000000</td>\n",
       "      <td>891.000000</td>\n",
       "      <td>714.000000</td>\n",
       "      <td>891.000000</td>\n",
       "      <td>891.000000</td>\n",
       "      <td>891.000000</td>\n",
       "    </tr>\n",
       "    <tr>\n",
       "      <th>mean</th>\n",
       "      <td>446.000000</td>\n",
       "      <td>0.383838</td>\n",
       "      <td>2.308642</td>\n",
       "      <td>29.699118</td>\n",
       "      <td>0.523008</td>\n",
       "      <td>0.381594</td>\n",
       "      <td>32.204208</td>\n",
       "    </tr>\n",
       "    <tr>\n",
       "      <th>std</th>\n",
       "      <td>257.353842</td>\n",
       "      <td>0.486592</td>\n",
       "      <td>0.836071</td>\n",
       "      <td>14.526497</td>\n",
       "      <td>1.102743</td>\n",
       "      <td>0.806057</td>\n",
       "      <td>49.693429</td>\n",
       "    </tr>\n",
       "    <tr>\n",
       "      <th>min</th>\n",
       "      <td>1.000000</td>\n",
       "      <td>0.000000</td>\n",
       "      <td>1.000000</td>\n",
       "      <td>0.420000</td>\n",
       "      <td>0.000000</td>\n",
       "      <td>0.000000</td>\n",
       "      <td>0.000000</td>\n",
       "    </tr>\n",
       "    <tr>\n",
       "      <th>25%</th>\n",
       "      <td>223.500000</td>\n",
       "      <td>0.000000</td>\n",
       "      <td>2.000000</td>\n",
       "      <td>20.125000</td>\n",
       "      <td>0.000000</td>\n",
       "      <td>0.000000</td>\n",
       "      <td>7.910400</td>\n",
       "    </tr>\n",
       "    <tr>\n",
       "      <th>50%</th>\n",
       "      <td>446.000000</td>\n",
       "      <td>0.000000</td>\n",
       "      <td>3.000000</td>\n",
       "      <td>28.000000</td>\n",
       "      <td>0.000000</td>\n",
       "      <td>0.000000</td>\n",
       "      <td>14.454200</td>\n",
       "    </tr>\n",
       "    <tr>\n",
       "      <th>75%</th>\n",
       "      <td>668.500000</td>\n",
       "      <td>1.000000</td>\n",
       "      <td>3.000000</td>\n",
       "      <td>38.000000</td>\n",
       "      <td>1.000000</td>\n",
       "      <td>0.000000</td>\n",
       "      <td>31.000000</td>\n",
       "    </tr>\n",
       "    <tr>\n",
       "      <th>max</th>\n",
       "      <td>891.000000</td>\n",
       "      <td>1.000000</td>\n",
       "      <td>3.000000</td>\n",
       "      <td>80.000000</td>\n",
       "      <td>8.000000</td>\n",
       "      <td>6.000000</td>\n",
       "      <td>512.329200</td>\n",
       "    </tr>\n",
       "  </tbody>\n",
       "</table>\n",
       "</div>"
      ],
      "text/plain": [
       "       PassengerId    Survived      Pclass         Age       SibSp  \\\n",
       "count   891.000000  891.000000  891.000000  714.000000  891.000000   \n",
       "mean    446.000000    0.383838    2.308642   29.699118    0.523008   \n",
       "std     257.353842    0.486592    0.836071   14.526497    1.102743   \n",
       "min       1.000000    0.000000    1.000000    0.420000    0.000000   \n",
       "25%     223.500000    0.000000    2.000000   20.125000    0.000000   \n",
       "50%     446.000000    0.000000    3.000000   28.000000    0.000000   \n",
       "75%     668.500000    1.000000    3.000000   38.000000    1.000000   \n",
       "max     891.000000    1.000000    3.000000   80.000000    8.000000   \n",
       "\n",
       "            Parch        Fare  \n",
       "count  891.000000  891.000000  \n",
       "mean     0.381594   32.204208  \n",
       "std      0.806057   49.693429  \n",
       "min      0.000000    0.000000  \n",
       "25%      0.000000    7.910400  \n",
       "50%      0.000000   14.454200  \n",
       "75%      0.000000   31.000000  \n",
       "max      6.000000  512.329200  "
      ]
     },
     "execution_count": 4,
     "metadata": {},
     "output_type": "execute_result"
    }
   ],
   "source": [
    "train_df.describe()"
   ]
  },
  {
   "cell_type": "code",
   "execution_count": 5,
   "id": "3d052f46",
   "metadata": {
    "execution": {
     "iopub.execute_input": "2023-07-03T20:43:37.086494Z",
     "iopub.status.busy": "2023-07-03T20:43:37.085655Z",
     "iopub.status.idle": "2023-07-03T20:43:37.099999Z",
     "shell.execute_reply": "2023-07-03T20:43:37.099378Z"
    },
    "papermill": {
     "duration": 0.024603,
     "end_time": "2023-07-03T20:43:37.101533",
     "exception": false,
     "start_time": "2023-07-03T20:43:37.076930",
     "status": "completed"
    },
    "tags": []
   },
   "outputs": [
    {
     "data": {
      "text/html": [
       "<div>\n",
       "<style scoped>\n",
       "    .dataframe tbody tr th:only-of-type {\n",
       "        vertical-align: middle;\n",
       "    }\n",
       "\n",
       "    .dataframe tbody tr th {\n",
       "        vertical-align: top;\n",
       "    }\n",
       "\n",
       "    .dataframe thead th {\n",
       "        text-align: right;\n",
       "    }\n",
       "</style>\n",
       "<table border=\"1\" class=\"dataframe\">\n",
       "  <thead>\n",
       "    <tr style=\"text-align: right;\">\n",
       "      <th></th>\n",
       "      <th>PassengerId</th>\n",
       "      <th>Pclass</th>\n",
       "      <th>Name</th>\n",
       "      <th>Sex</th>\n",
       "      <th>Age</th>\n",
       "      <th>SibSp</th>\n",
       "      <th>Parch</th>\n",
       "      <th>Ticket</th>\n",
       "      <th>Fare</th>\n",
       "      <th>Cabin</th>\n",
       "      <th>Embarked</th>\n",
       "    </tr>\n",
       "  </thead>\n",
       "  <tbody>\n",
       "    <tr>\n",
       "      <th>0</th>\n",
       "      <td>892</td>\n",
       "      <td>3</td>\n",
       "      <td>Kelly, Mr. James</td>\n",
       "      <td>male</td>\n",
       "      <td>34.5</td>\n",
       "      <td>0</td>\n",
       "      <td>0</td>\n",
       "      <td>330911</td>\n",
       "      <td>7.8292</td>\n",
       "      <td>NaN</td>\n",
       "      <td>Q</td>\n",
       "    </tr>\n",
       "    <tr>\n",
       "      <th>1</th>\n",
       "      <td>893</td>\n",
       "      <td>3</td>\n",
       "      <td>Wilkes, Mrs. James (Ellen Needs)</td>\n",
       "      <td>female</td>\n",
       "      <td>47.0</td>\n",
       "      <td>1</td>\n",
       "      <td>0</td>\n",
       "      <td>363272</td>\n",
       "      <td>7.0000</td>\n",
       "      <td>NaN</td>\n",
       "      <td>S</td>\n",
       "    </tr>\n",
       "    <tr>\n",
       "      <th>2</th>\n",
       "      <td>894</td>\n",
       "      <td>2</td>\n",
       "      <td>Myles, Mr. Thomas Francis</td>\n",
       "      <td>male</td>\n",
       "      <td>62.0</td>\n",
       "      <td>0</td>\n",
       "      <td>0</td>\n",
       "      <td>240276</td>\n",
       "      <td>9.6875</td>\n",
       "      <td>NaN</td>\n",
       "      <td>Q</td>\n",
       "    </tr>\n",
       "    <tr>\n",
       "      <th>3</th>\n",
       "      <td>895</td>\n",
       "      <td>3</td>\n",
       "      <td>Wirz, Mr. Albert</td>\n",
       "      <td>male</td>\n",
       "      <td>27.0</td>\n",
       "      <td>0</td>\n",
       "      <td>0</td>\n",
       "      <td>315154</td>\n",
       "      <td>8.6625</td>\n",
       "      <td>NaN</td>\n",
       "      <td>S</td>\n",
       "    </tr>\n",
       "    <tr>\n",
       "      <th>4</th>\n",
       "      <td>896</td>\n",
       "      <td>3</td>\n",
       "      <td>Hirvonen, Mrs. Alexander (Helga E Lindqvist)</td>\n",
       "      <td>female</td>\n",
       "      <td>22.0</td>\n",
       "      <td>1</td>\n",
       "      <td>1</td>\n",
       "      <td>3101298</td>\n",
       "      <td>12.2875</td>\n",
       "      <td>NaN</td>\n",
       "      <td>S</td>\n",
       "    </tr>\n",
       "    <tr>\n",
       "      <th>5</th>\n",
       "      <td>897</td>\n",
       "      <td>3</td>\n",
       "      <td>Svensson, Mr. Johan Cervin</td>\n",
       "      <td>male</td>\n",
       "      <td>14.0</td>\n",
       "      <td>0</td>\n",
       "      <td>0</td>\n",
       "      <td>7538</td>\n",
       "      <td>9.2250</td>\n",
       "      <td>NaN</td>\n",
       "      <td>S</td>\n",
       "    </tr>\n",
       "    <tr>\n",
       "      <th>6</th>\n",
       "      <td>898</td>\n",
       "      <td>3</td>\n",
       "      <td>Connolly, Miss. Kate</td>\n",
       "      <td>female</td>\n",
       "      <td>30.0</td>\n",
       "      <td>0</td>\n",
       "      <td>0</td>\n",
       "      <td>330972</td>\n",
       "      <td>7.6292</td>\n",
       "      <td>NaN</td>\n",
       "      <td>Q</td>\n",
       "    </tr>\n",
       "    <tr>\n",
       "      <th>7</th>\n",
       "      <td>899</td>\n",
       "      <td>2</td>\n",
       "      <td>Caldwell, Mr. Albert Francis</td>\n",
       "      <td>male</td>\n",
       "      <td>26.0</td>\n",
       "      <td>1</td>\n",
       "      <td>1</td>\n",
       "      <td>248738</td>\n",
       "      <td>29.0000</td>\n",
       "      <td>NaN</td>\n",
       "      <td>S</td>\n",
       "    </tr>\n",
       "    <tr>\n",
       "      <th>8</th>\n",
       "      <td>900</td>\n",
       "      <td>3</td>\n",
       "      <td>Abrahim, Mrs. Joseph (Sophie Halaut Easu)</td>\n",
       "      <td>female</td>\n",
       "      <td>18.0</td>\n",
       "      <td>0</td>\n",
       "      <td>0</td>\n",
       "      <td>2657</td>\n",
       "      <td>7.2292</td>\n",
       "      <td>NaN</td>\n",
       "      <td>C</td>\n",
       "    </tr>\n",
       "    <tr>\n",
       "      <th>9</th>\n",
       "      <td>901</td>\n",
       "      <td>3</td>\n",
       "      <td>Davies, Mr. John Samuel</td>\n",
       "      <td>male</td>\n",
       "      <td>21.0</td>\n",
       "      <td>2</td>\n",
       "      <td>0</td>\n",
       "      <td>A/4 48871</td>\n",
       "      <td>24.1500</td>\n",
       "      <td>NaN</td>\n",
       "      <td>S</td>\n",
       "    </tr>\n",
       "  </tbody>\n",
       "</table>\n",
       "</div>"
      ],
      "text/plain": [
       "   PassengerId  Pclass                                          Name     Sex  \\\n",
       "0          892       3                              Kelly, Mr. James    male   \n",
       "1          893       3              Wilkes, Mrs. James (Ellen Needs)  female   \n",
       "2          894       2                     Myles, Mr. Thomas Francis    male   \n",
       "3          895       3                              Wirz, Mr. Albert    male   \n",
       "4          896       3  Hirvonen, Mrs. Alexander (Helga E Lindqvist)  female   \n",
       "5          897       3                    Svensson, Mr. Johan Cervin    male   \n",
       "6          898       3                          Connolly, Miss. Kate  female   \n",
       "7          899       2                  Caldwell, Mr. Albert Francis    male   \n",
       "8          900       3     Abrahim, Mrs. Joseph (Sophie Halaut Easu)  female   \n",
       "9          901       3                       Davies, Mr. John Samuel    male   \n",
       "\n",
       "    Age  SibSp  Parch     Ticket     Fare Cabin Embarked  \n",
       "0  34.5      0      0     330911   7.8292   NaN        Q  \n",
       "1  47.0      1      0     363272   7.0000   NaN        S  \n",
       "2  62.0      0      0     240276   9.6875   NaN        Q  \n",
       "3  27.0      0      0     315154   8.6625   NaN        S  \n",
       "4  22.0      1      1    3101298  12.2875   NaN        S  \n",
       "5  14.0      0      0       7538   9.2250   NaN        S  \n",
       "6  30.0      0      0     330972   7.6292   NaN        Q  \n",
       "7  26.0      1      1     248738  29.0000   NaN        S  \n",
       "8  18.0      0      0       2657   7.2292   NaN        C  \n",
       "9  21.0      2      0  A/4 48871  24.1500   NaN        S  "
      ]
     },
     "execution_count": 5,
     "metadata": {},
     "output_type": "execute_result"
    }
   ],
   "source": [
    "test_df.head(10)"
   ]
  },
  {
   "cell_type": "code",
   "execution_count": 6,
   "id": "705ac538",
   "metadata": {
    "execution": {
     "iopub.execute_input": "2023-07-03T20:43:37.116862Z",
     "iopub.status.busy": "2023-07-03T20:43:37.116357Z",
     "iopub.status.idle": "2023-07-03T20:43:37.137605Z",
     "shell.execute_reply": "2023-07-03T20:43:37.137009Z"
    },
    "papermill": {
     "duration": 0.030757,
     "end_time": "2023-07-03T20:43:37.139174",
     "exception": false,
     "start_time": "2023-07-03T20:43:37.108417",
     "status": "completed"
    },
    "tags": []
   },
   "outputs": [
    {
     "data": {
      "text/html": [
       "<div>\n",
       "<style scoped>\n",
       "    .dataframe tbody tr th:only-of-type {\n",
       "        vertical-align: middle;\n",
       "    }\n",
       "\n",
       "    .dataframe tbody tr th {\n",
       "        vertical-align: top;\n",
       "    }\n",
       "\n",
       "    .dataframe thead th {\n",
       "        text-align: right;\n",
       "    }\n",
       "</style>\n",
       "<table border=\"1\" class=\"dataframe\">\n",
       "  <thead>\n",
       "    <tr style=\"text-align: right;\">\n",
       "      <th></th>\n",
       "      <th>PassengerId</th>\n",
       "      <th>Pclass</th>\n",
       "      <th>Age</th>\n",
       "      <th>SibSp</th>\n",
       "      <th>Parch</th>\n",
       "      <th>Fare</th>\n",
       "    </tr>\n",
       "  </thead>\n",
       "  <tbody>\n",
       "    <tr>\n",
       "      <th>count</th>\n",
       "      <td>418.000000</td>\n",
       "      <td>418.000000</td>\n",
       "      <td>332.000000</td>\n",
       "      <td>418.000000</td>\n",
       "      <td>418.000000</td>\n",
       "      <td>417.000000</td>\n",
       "    </tr>\n",
       "    <tr>\n",
       "      <th>mean</th>\n",
       "      <td>1100.500000</td>\n",
       "      <td>2.265550</td>\n",
       "      <td>30.272590</td>\n",
       "      <td>0.447368</td>\n",
       "      <td>0.392344</td>\n",
       "      <td>35.627188</td>\n",
       "    </tr>\n",
       "    <tr>\n",
       "      <th>std</th>\n",
       "      <td>120.810458</td>\n",
       "      <td>0.841838</td>\n",
       "      <td>14.181209</td>\n",
       "      <td>0.896760</td>\n",
       "      <td>0.981429</td>\n",
       "      <td>55.907576</td>\n",
       "    </tr>\n",
       "    <tr>\n",
       "      <th>min</th>\n",
       "      <td>892.000000</td>\n",
       "      <td>1.000000</td>\n",
       "      <td>0.170000</td>\n",
       "      <td>0.000000</td>\n",
       "      <td>0.000000</td>\n",
       "      <td>0.000000</td>\n",
       "    </tr>\n",
       "    <tr>\n",
       "      <th>25%</th>\n",
       "      <td>996.250000</td>\n",
       "      <td>1.000000</td>\n",
       "      <td>21.000000</td>\n",
       "      <td>0.000000</td>\n",
       "      <td>0.000000</td>\n",
       "      <td>7.895800</td>\n",
       "    </tr>\n",
       "    <tr>\n",
       "      <th>50%</th>\n",
       "      <td>1100.500000</td>\n",
       "      <td>3.000000</td>\n",
       "      <td>27.000000</td>\n",
       "      <td>0.000000</td>\n",
       "      <td>0.000000</td>\n",
       "      <td>14.454200</td>\n",
       "    </tr>\n",
       "    <tr>\n",
       "      <th>75%</th>\n",
       "      <td>1204.750000</td>\n",
       "      <td>3.000000</td>\n",
       "      <td>39.000000</td>\n",
       "      <td>1.000000</td>\n",
       "      <td>0.000000</td>\n",
       "      <td>31.500000</td>\n",
       "    </tr>\n",
       "    <tr>\n",
       "      <th>max</th>\n",
       "      <td>1309.000000</td>\n",
       "      <td>3.000000</td>\n",
       "      <td>76.000000</td>\n",
       "      <td>8.000000</td>\n",
       "      <td>9.000000</td>\n",
       "      <td>512.329200</td>\n",
       "    </tr>\n",
       "  </tbody>\n",
       "</table>\n",
       "</div>"
      ],
      "text/plain": [
       "       PassengerId      Pclass         Age       SibSp       Parch        Fare\n",
       "count   418.000000  418.000000  332.000000  418.000000  418.000000  417.000000\n",
       "mean   1100.500000    2.265550   30.272590    0.447368    0.392344   35.627188\n",
       "std     120.810458    0.841838   14.181209    0.896760    0.981429   55.907576\n",
       "min     892.000000    1.000000    0.170000    0.000000    0.000000    0.000000\n",
       "25%     996.250000    1.000000   21.000000    0.000000    0.000000    7.895800\n",
       "50%    1100.500000    3.000000   27.000000    0.000000    0.000000   14.454200\n",
       "75%    1204.750000    3.000000   39.000000    1.000000    0.000000   31.500000\n",
       "max    1309.000000    3.000000   76.000000    8.000000    9.000000  512.329200"
      ]
     },
     "execution_count": 6,
     "metadata": {},
     "output_type": "execute_result"
    }
   ],
   "source": [
    "test_df.describe()"
   ]
  },
  {
   "cell_type": "code",
   "execution_count": 7,
   "id": "35a126f0",
   "metadata": {
    "execution": {
     "iopub.execute_input": "2023-07-03T20:43:37.154883Z",
     "iopub.status.busy": "2023-07-03T20:43:37.154389Z",
     "iopub.status.idle": "2023-07-03T20:43:37.158619Z",
     "shell.execute_reply": "2023-07-03T20:43:37.157718Z"
    },
    "papermill": {
     "duration": 0.014036,
     "end_time": "2023-07-03T20:43:37.160386",
     "exception": false,
     "start_time": "2023-07-03T20:43:37.146350",
     "status": "completed"
    },
    "tags": []
   },
   "outputs": [
    {
     "name": "stdout",
     "output_type": "stream",
     "text": [
      "Train Data Shape: (891, 12)\n",
      "Test Data Shape: (418, 11)\n"
     ]
    }
   ],
   "source": [
    "print(f\"Train Data Shape: {train_df.shape}\")\n",
    "print(f\"Test Data Shape: {test_df.shape}\")"
   ]
  },
  {
   "cell_type": "markdown",
   "id": "f7e0d187",
   "metadata": {
    "papermill": {
     "duration": 0.007024,
     "end_time": "2023-07-03T20:43:37.175704",
     "exception": false,
     "start_time": "2023-07-03T20:43:37.168680",
     "status": "completed"
    },
    "tags": []
   },
   "source": [
    "# Data Cleaning"
   ]
  },
  {
   "cell_type": "code",
   "execution_count": 8,
   "id": "d119a345",
   "metadata": {
    "execution": {
     "iopub.execute_input": "2023-07-03T20:43:37.192182Z",
     "iopub.status.busy": "2023-07-03T20:43:37.191404Z",
     "iopub.status.idle": "2023-07-03T20:43:37.199200Z",
     "shell.execute_reply": "2023-07-03T20:43:37.198147Z"
    },
    "papermill": {
     "duration": 0.017927,
     "end_time": "2023-07-03T20:43:37.201012",
     "exception": false,
     "start_time": "2023-07-03T20:43:37.183085",
     "status": "completed"
    },
    "tags": []
   },
   "outputs": [
    {
     "data": {
      "text/plain": [
       "PassengerId      0\n",
       "Survived         0\n",
       "Pclass           0\n",
       "Name             0\n",
       "Sex              0\n",
       "Age            177\n",
       "SibSp            0\n",
       "Parch            0\n",
       "Ticket           0\n",
       "Fare             0\n",
       "Cabin          687\n",
       "Embarked         2\n",
       "dtype: int64"
      ]
     },
     "execution_count": 8,
     "metadata": {},
     "output_type": "execute_result"
    }
   ],
   "source": [
    "train_df.isnull().sum()"
   ]
  },
  {
   "cell_type": "code",
   "execution_count": 9,
   "id": "1536ef46",
   "metadata": {
    "execution": {
     "iopub.execute_input": "2023-07-03T20:43:37.217590Z",
     "iopub.status.busy": "2023-07-03T20:43:37.217051Z",
     "iopub.status.idle": "2023-07-03T20:43:37.227642Z",
     "shell.execute_reply": "2023-07-03T20:43:37.226931Z"
    },
    "papermill": {
     "duration": 0.020824,
     "end_time": "2023-07-03T20:43:37.229271",
     "exception": false,
     "start_time": "2023-07-03T20:43:37.208447",
     "status": "completed"
    },
    "tags": []
   },
   "outputs": [
    {
     "data": {
      "text/plain": [
       "PassengerId    891\n",
       "Survived         2\n",
       "Pclass           3\n",
       "Name           891\n",
       "Sex              2\n",
       "Age             88\n",
       "SibSp            7\n",
       "Parch            7\n",
       "Ticket         681\n",
       "Fare           248\n",
       "Cabin          147\n",
       "Embarked         3\n",
       "dtype: int64"
      ]
     },
     "execution_count": 9,
     "metadata": {},
     "output_type": "execute_result"
    }
   ],
   "source": [
    "train_df.nunique()"
   ]
  },
  {
   "cell_type": "code",
   "execution_count": 10,
   "id": "4fcdeffa",
   "metadata": {
    "execution": {
     "iopub.execute_input": "2023-07-03T20:43:37.246464Z",
     "iopub.status.busy": "2023-07-03T20:43:37.245907Z",
     "iopub.status.idle": "2023-07-03T20:43:37.252763Z",
     "shell.execute_reply": "2023-07-03T20:43:37.252154Z"
    },
    "papermill": {
     "duration": 0.018194,
     "end_time": "2023-07-03T20:43:37.255068",
     "exception": false,
     "start_time": "2023-07-03T20:43:37.236874",
     "status": "completed"
    },
    "tags": []
   },
   "outputs": [
    {
     "data": {
      "text/plain": [
       "PassengerId      0\n",
       "Pclass           0\n",
       "Name             0\n",
       "Sex              0\n",
       "Age             86\n",
       "SibSp            0\n",
       "Parch            0\n",
       "Ticket           0\n",
       "Fare             1\n",
       "Cabin          327\n",
       "Embarked         0\n",
       "dtype: int64"
      ]
     },
     "execution_count": 10,
     "metadata": {},
     "output_type": "execute_result"
    }
   ],
   "source": [
    "test_df.isnull().sum()"
   ]
  },
  {
   "cell_type": "code",
   "execution_count": 11,
   "id": "d999697f",
   "metadata": {
    "execution": {
     "iopub.execute_input": "2023-07-03T20:43:37.272823Z",
     "iopub.status.busy": "2023-07-03T20:43:37.272279Z",
     "iopub.status.idle": "2023-07-03T20:43:37.280881Z",
     "shell.execute_reply": "2023-07-03T20:43:37.280007Z"
    },
    "papermill": {
     "duration": 0.019494,
     "end_time": "2023-07-03T20:43:37.282614",
     "exception": false,
     "start_time": "2023-07-03T20:43:37.263120",
     "status": "completed"
    },
    "tags": []
   },
   "outputs": [
    {
     "data": {
      "text/plain": [
       "PassengerId    418\n",
       "Pclass           3\n",
       "Name           418\n",
       "Sex              2\n",
       "Age             79\n",
       "SibSp            7\n",
       "Parch            8\n",
       "Ticket         363\n",
       "Fare           169\n",
       "Cabin           76\n",
       "Embarked         3\n",
       "dtype: int64"
      ]
     },
     "execution_count": 11,
     "metadata": {},
     "output_type": "execute_result"
    }
   ],
   "source": [
    "test_df.nunique()"
   ]
  },
  {
   "cell_type": "code",
   "execution_count": 12,
   "id": "9ab100a9",
   "metadata": {
    "execution": {
     "iopub.execute_input": "2023-07-03T20:43:37.300086Z",
     "iopub.status.busy": "2023-07-03T20:43:37.299650Z",
     "iopub.status.idle": "2023-07-03T20:43:37.324013Z",
     "shell.execute_reply": "2023-07-03T20:43:37.323040Z"
    },
    "papermill": {
     "duration": 0.035748,
     "end_time": "2023-07-03T20:43:37.326234",
     "exception": false,
     "start_time": "2023-07-03T20:43:37.290486",
     "status": "completed"
    },
    "tags": []
   },
   "outputs": [],
   "source": [
    "import statistics\n",
    "train_df[\"Age\"] = train_df[\"Age\"].fillna(train_df[\"Age\"].apply(lambda x: train_df[\"Age\"].mean() if pd.isnull(x) else x))\n",
    "train_df[\"Embarked\"] = train_df[\"Embarked\"].fillna(test_df[\"Embarked\"].apply(lambda x: statistics.mode(train_df.Embarked) if pd.isnull(x) else x))"
   ]
  },
  {
   "cell_type": "code",
   "execution_count": 13,
   "id": "0d57c1aa",
   "metadata": {
    "execution": {
     "iopub.execute_input": "2023-07-03T20:43:37.343308Z",
     "iopub.status.busy": "2023-07-03T20:43:37.342898Z",
     "iopub.status.idle": "2023-07-03T20:43:37.351304Z",
     "shell.execute_reply": "2023-07-03T20:43:37.350426Z"
    },
    "papermill": {
     "duration": 0.018776,
     "end_time": "2023-07-03T20:43:37.352920",
     "exception": false,
     "start_time": "2023-07-03T20:43:37.334144",
     "status": "completed"
    },
    "tags": []
   },
   "outputs": [
    {
     "data": {
      "text/plain": [
       "PassengerId      0\n",
       "Survived         0\n",
       "Pclass           0\n",
       "Name             0\n",
       "Sex              0\n",
       "Age              0\n",
       "SibSp            0\n",
       "Parch            0\n",
       "Ticket           0\n",
       "Fare             0\n",
       "Cabin          687\n",
       "Embarked         1\n",
       "dtype: int64"
      ]
     },
     "execution_count": 13,
     "metadata": {},
     "output_type": "execute_result"
    }
   ],
   "source": [
    "train_df.isnull().sum()"
   ]
  },
  {
   "cell_type": "code",
   "execution_count": 14,
   "id": "c3d0a607",
   "metadata": {
    "execution": {
     "iopub.execute_input": "2023-07-03T20:43:37.372244Z",
     "iopub.status.busy": "2023-07-03T20:43:37.371745Z",
     "iopub.status.idle": "2023-07-03T20:43:37.386653Z",
     "shell.execute_reply": "2023-07-03T20:43:37.385557Z"
    },
    "papermill": {
     "duration": 0.02729,
     "end_time": "2023-07-03T20:43:37.388783",
     "exception": false,
     "start_time": "2023-07-03T20:43:37.361493",
     "status": "completed"
    },
    "tags": []
   },
   "outputs": [],
   "source": [
    "test_df[\"Age\"] = test_df[\"Age\"].fillna(test_df[\"Age\"].apply(lambda x: train_df[\"Age\"].mean() if pd.isnull(x) else x))\n",
    "test_df[\"Fare\"] = test_df[\"Fare\"].fillna(test_df[\"Fare\"].apply(lambda x: test_df.Fare.median() if pd.isnull(x) else x))"
   ]
  },
  {
   "cell_type": "code",
   "execution_count": 15,
   "id": "19c41be9",
   "metadata": {
    "execution": {
     "iopub.execute_input": "2023-07-03T20:43:37.406104Z",
     "iopub.status.busy": "2023-07-03T20:43:37.405696Z",
     "iopub.status.idle": "2023-07-03T20:43:37.414180Z",
     "shell.execute_reply": "2023-07-03T20:43:37.413144Z"
    },
    "papermill": {
     "duration": 0.019121,
     "end_time": "2023-07-03T20:43:37.415905",
     "exception": false,
     "start_time": "2023-07-03T20:43:37.396784",
     "status": "completed"
    },
    "tags": []
   },
   "outputs": [
    {
     "data": {
      "text/plain": [
       "PassengerId      0\n",
       "Pclass           0\n",
       "Name             0\n",
       "Sex              0\n",
       "Age              0\n",
       "SibSp            0\n",
       "Parch            0\n",
       "Ticket           0\n",
       "Fare             0\n",
       "Cabin          327\n",
       "Embarked         0\n",
       "dtype: int64"
      ]
     },
     "execution_count": 15,
     "metadata": {},
     "output_type": "execute_result"
    }
   ],
   "source": [
    "test_df.isnull().sum()"
   ]
  },
  {
   "cell_type": "markdown",
   "id": "fd9bdd7d",
   "metadata": {
    "papermill": {
     "duration": 0.007662,
     "end_time": "2023-07-03T20:43:37.431751",
     "exception": false,
     "start_time": "2023-07-03T20:43:37.424089",
     "status": "completed"
    },
    "tags": []
   },
   "source": [
    "\n",
    "# Splitting Data"
   ]
  },
  {
   "cell_type": "code",
   "execution_count": 16,
   "id": "f1d508cf",
   "metadata": {
    "execution": {
     "iopub.execute_input": "2023-07-03T20:43:37.449164Z",
     "iopub.status.busy": "2023-07-03T20:43:37.448826Z",
     "iopub.status.idle": "2023-07-03T20:43:37.465587Z",
     "shell.execute_reply": "2023-07-03T20:43:37.464514Z"
    },
    "papermill": {
     "duration": 0.027867,
     "end_time": "2023-07-03T20:43:37.467585",
     "exception": false,
     "start_time": "2023-07-03T20:43:37.439718",
     "status": "completed"
    },
    "tags": []
   },
   "outputs": [
    {
     "data": {
      "text/html": [
       "<div>\n",
       "<style scoped>\n",
       "    .dataframe tbody tr th:only-of-type {\n",
       "        vertical-align: middle;\n",
       "    }\n",
       "\n",
       "    .dataframe tbody tr th {\n",
       "        vertical-align: top;\n",
       "    }\n",
       "\n",
       "    .dataframe thead th {\n",
       "        text-align: right;\n",
       "    }\n",
       "</style>\n",
       "<table border=\"1\" class=\"dataframe\">\n",
       "  <thead>\n",
       "    <tr style=\"text-align: right;\">\n",
       "      <th></th>\n",
       "      <th>Pclass</th>\n",
       "      <th>Sex</th>\n",
       "      <th>Age</th>\n",
       "      <th>SibSp</th>\n",
       "      <th>Parch</th>\n",
       "      <th>Fare</th>\n",
       "    </tr>\n",
       "  </thead>\n",
       "  <tbody>\n",
       "    <tr>\n",
       "      <th>0</th>\n",
       "      <td>3</td>\n",
       "      <td>male</td>\n",
       "      <td>22.000000</td>\n",
       "      <td>1</td>\n",
       "      <td>0</td>\n",
       "      <td>7.2500</td>\n",
       "    </tr>\n",
       "    <tr>\n",
       "      <th>1</th>\n",
       "      <td>1</td>\n",
       "      <td>female</td>\n",
       "      <td>38.000000</td>\n",
       "      <td>1</td>\n",
       "      <td>0</td>\n",
       "      <td>71.2833</td>\n",
       "    </tr>\n",
       "    <tr>\n",
       "      <th>2</th>\n",
       "      <td>3</td>\n",
       "      <td>female</td>\n",
       "      <td>26.000000</td>\n",
       "      <td>0</td>\n",
       "      <td>0</td>\n",
       "      <td>7.9250</td>\n",
       "    </tr>\n",
       "    <tr>\n",
       "      <th>3</th>\n",
       "      <td>1</td>\n",
       "      <td>female</td>\n",
       "      <td>35.000000</td>\n",
       "      <td>1</td>\n",
       "      <td>0</td>\n",
       "      <td>53.1000</td>\n",
       "    </tr>\n",
       "    <tr>\n",
       "      <th>4</th>\n",
       "      <td>3</td>\n",
       "      <td>male</td>\n",
       "      <td>35.000000</td>\n",
       "      <td>0</td>\n",
       "      <td>0</td>\n",
       "      <td>8.0500</td>\n",
       "    </tr>\n",
       "    <tr>\n",
       "      <th>...</th>\n",
       "      <td>...</td>\n",
       "      <td>...</td>\n",
       "      <td>...</td>\n",
       "      <td>...</td>\n",
       "      <td>...</td>\n",
       "      <td>...</td>\n",
       "    </tr>\n",
       "    <tr>\n",
       "      <th>886</th>\n",
       "      <td>2</td>\n",
       "      <td>male</td>\n",
       "      <td>27.000000</td>\n",
       "      <td>0</td>\n",
       "      <td>0</td>\n",
       "      <td>13.0000</td>\n",
       "    </tr>\n",
       "    <tr>\n",
       "      <th>887</th>\n",
       "      <td>1</td>\n",
       "      <td>female</td>\n",
       "      <td>19.000000</td>\n",
       "      <td>0</td>\n",
       "      <td>0</td>\n",
       "      <td>30.0000</td>\n",
       "    </tr>\n",
       "    <tr>\n",
       "      <th>888</th>\n",
       "      <td>3</td>\n",
       "      <td>female</td>\n",
       "      <td>29.699118</td>\n",
       "      <td>1</td>\n",
       "      <td>2</td>\n",
       "      <td>23.4500</td>\n",
       "    </tr>\n",
       "    <tr>\n",
       "      <th>889</th>\n",
       "      <td>1</td>\n",
       "      <td>male</td>\n",
       "      <td>26.000000</td>\n",
       "      <td>0</td>\n",
       "      <td>0</td>\n",
       "      <td>30.0000</td>\n",
       "    </tr>\n",
       "    <tr>\n",
       "      <th>890</th>\n",
       "      <td>3</td>\n",
       "      <td>male</td>\n",
       "      <td>32.000000</td>\n",
       "      <td>0</td>\n",
       "      <td>0</td>\n",
       "      <td>7.7500</td>\n",
       "    </tr>\n",
       "  </tbody>\n",
       "</table>\n",
       "<p>891 rows × 6 columns</p>\n",
       "</div>"
      ],
      "text/plain": [
       "     Pclass     Sex        Age  SibSp  Parch     Fare\n",
       "0         3    male  22.000000      1      0   7.2500\n",
       "1         1  female  38.000000      1      0  71.2833\n",
       "2         3  female  26.000000      0      0   7.9250\n",
       "3         1  female  35.000000      1      0  53.1000\n",
       "4         3    male  35.000000      0      0   8.0500\n",
       "..      ...     ...        ...    ...    ...      ...\n",
       "886       2    male  27.000000      0      0  13.0000\n",
       "887       1  female  19.000000      0      0  30.0000\n",
       "888       3  female  29.699118      1      2  23.4500\n",
       "889       1    male  26.000000      0      0  30.0000\n",
       "890       3    male  32.000000      0      0   7.7500\n",
       "\n",
       "[891 rows x 6 columns]"
      ]
     },
     "execution_count": 16,
     "metadata": {},
     "output_type": "execute_result"
    }
   ],
   "source": [
    "X = train_df.drop([\"PassengerId\", \"Name\", \"Cabin\", \"Survived\", \"Ticket\", \"Embarked\"], axis=1)\n",
    "y = train_df.Survived\n",
    "test = test_df.drop([\"PassengerId\", \"Name\", \"Cabin\", \"Ticket\", \"Embarked\"], axis=1)\n",
    "X"
   ]
  },
  {
   "cell_type": "code",
   "execution_count": 17,
   "id": "078b0bb1",
   "metadata": {
    "execution": {
     "iopub.execute_input": "2023-07-03T20:43:37.485399Z",
     "iopub.status.busy": "2023-07-03T20:43:37.485022Z",
     "iopub.status.idle": "2023-07-03T20:43:38.534615Z",
     "shell.execute_reply": "2023-07-03T20:43:38.533514Z"
    },
    "papermill": {
     "duration": 1.061468,
     "end_time": "2023-07-03T20:43:38.537230",
     "exception": false,
     "start_time": "2023-07-03T20:43:37.475762",
     "status": "completed"
    },
    "tags": []
   },
   "outputs": [],
   "source": [
    "from sklearn.model_selection import train_test_split\n",
    "X_train, X_test, y_train, y_test = train_test_split(X, y, test_size=0.3, random_state=0)"
   ]
  },
  {
   "cell_type": "markdown",
   "id": "93342d12",
   "metadata": {
    "papermill": {
     "duration": 0.007624,
     "end_time": "2023-07-03T20:43:38.553030",
     "exception": false,
     "start_time": "2023-07-03T20:43:38.545406",
     "status": "completed"
    },
    "tags": []
   },
   "source": [
    "# Data Preprocessing"
   ]
  },
  {
   "cell_type": "code",
   "execution_count": 18,
   "id": "df5293a4",
   "metadata": {
    "execution": {
     "iopub.execute_input": "2023-07-03T20:43:38.570262Z",
     "iopub.status.busy": "2023-07-03T20:43:38.569888Z",
     "iopub.status.idle": "2023-07-03T20:43:38.574857Z",
     "shell.execute_reply": "2023-07-03T20:43:38.573820Z"
    },
    "papermill": {
     "duration": 0.015811,
     "end_time": "2023-07-03T20:43:38.576691",
     "exception": false,
     "start_time": "2023-07-03T20:43:38.560880",
     "status": "completed"
    },
    "tags": []
   },
   "outputs": [],
   "source": [
    "from sklearn.preprocessing import LabelEncoder,StandardScaler, normalize, MinMaxScaler, OneHotEncoder"
   ]
  },
  {
   "cell_type": "code",
   "execution_count": 19,
   "id": "e8c45462",
   "metadata": {
    "execution": {
     "iopub.execute_input": "2023-07-03T20:43:38.594255Z",
     "iopub.status.busy": "2023-07-03T20:43:38.593863Z",
     "iopub.status.idle": "2023-07-03T20:43:38.600815Z",
     "shell.execute_reply": "2023-07-03T20:43:38.599836Z"
    },
    "papermill": {
     "duration": 0.018085,
     "end_time": "2023-07-03T20:43:38.602998",
     "exception": false,
     "start_time": "2023-07-03T20:43:38.584913",
     "status": "completed"
    },
    "tags": []
   },
   "outputs": [],
   "source": [
    "encoder = LabelEncoder()\n",
    "for i in [\"Sex\"]:\n",
    "    X_train[i] = encoder.fit_transform(X_train[i])\n",
    "    X_test[i] = encoder.fit_transform(X_test[i])\n",
    "    test[i] = encoder.fit_transform(test[i])"
   ]
  },
  {
   "cell_type": "code",
   "execution_count": 20,
   "id": "31fbb025",
   "metadata": {
    "execution": {
     "iopub.execute_input": "2023-07-03T20:43:38.624556Z",
     "iopub.status.busy": "2023-07-03T20:43:38.623184Z",
     "iopub.status.idle": "2023-07-03T20:43:38.646369Z",
     "shell.execute_reply": "2023-07-03T20:43:38.645043Z"
    },
    "papermill": {
     "duration": 0.036403,
     "end_time": "2023-07-03T20:43:38.649226",
     "exception": false,
     "start_time": "2023-07-03T20:43:38.612823",
     "status": "completed"
    },
    "tags": []
   },
   "outputs": [],
   "source": [
    "sc = StandardScaler()\n",
    "n = [\"Pclass\", \"Age\",\"SibSp\",\"Parch\"]\n",
    "X_train[n] = sc.fit_transform(X_train[n])\n",
    "X_test[n] = sc.fit_transform(X_test[n])\n",
    "test[n] = sc.fit_transform(test[n])"
   ]
  },
  {
   "cell_type": "code",
   "execution_count": 21,
   "id": "2fe1d1f2",
   "metadata": {
    "execution": {
     "iopub.execute_input": "2023-07-03T20:43:38.672450Z",
     "iopub.status.busy": "2023-07-03T20:43:38.671372Z",
     "iopub.status.idle": "2023-07-03T20:43:38.679751Z",
     "shell.execute_reply": "2023-07-03T20:43:38.679109Z"
    },
    "papermill": {
     "duration": 0.021721,
     "end_time": "2023-07-03T20:43:38.681713",
     "exception": false,
     "start_time": "2023-07-03T20:43:38.659992",
     "status": "completed"
    },
    "tags": []
   },
   "outputs": [],
   "source": [
    "X_train = normalize(X_train)\n",
    "X_test = normalize(X_test)"
   ]
  },
  {
   "cell_type": "markdown",
   "id": "b05a9ccd",
   "metadata": {
    "papermill": {
     "duration": 0.009639,
     "end_time": "2023-07-03T20:43:38.701531",
     "exception": false,
     "start_time": "2023-07-03T20:43:38.691892",
     "status": "completed"
    },
    "tags": []
   },
   "source": [
    "# Modeling "
   ]
  },
  {
   "cell_type": "code",
   "execution_count": 22,
   "id": "6f95a715",
   "metadata": {
    "execution": {
     "iopub.execute_input": "2023-07-03T20:43:38.723721Z",
     "iopub.status.busy": "2023-07-03T20:43:38.721334Z",
     "iopub.status.idle": "2023-07-03T20:43:39.331409Z",
     "shell.execute_reply": "2023-07-03T20:43:39.329833Z"
    },
    "papermill": {
     "duration": 0.623995,
     "end_time": "2023-07-03T20:43:39.333939",
     "exception": false,
     "start_time": "2023-07-03T20:43:38.709944",
     "status": "completed"
    },
    "tags": []
   },
   "outputs": [],
   "source": [
    "from sklearn.linear_model import LogisticRegression\n",
    "from sklearn.neighbors import KNeighborsClassifier\n",
    "from sklearn.svm import SVC\n",
    "from sklearn.ensemble import RandomForestClassifier\n",
    "from sklearn.metrics import accuracy_score\n",
    "from catboost import CatBoostClassifier\n",
    "\n",
    "model_LR = LogisticRegression()\n",
    "model_KNN = KNeighborsClassifier(n_neighbors=2)\n",
    "model_SVM = SVC(kernel='linear',C=1)\n",
    "model_CB = CatBoostClassifier(verbose=False)\n",
    "model_RF = RandomForestClassifier(n_estimators= 100,\n",
    "                                  min_samples_leaf = 9,\n",
    "                                  max_depth=7,\n",
    "                                  bootstrap= False)\n"
   ]
  },
  {
   "cell_type": "code",
   "execution_count": 23,
   "id": "253ad2fe",
   "metadata": {
    "execution": {
     "iopub.execute_input": "2023-07-03T20:43:39.352189Z",
     "iopub.status.busy": "2023-07-03T20:43:39.351655Z",
     "iopub.status.idle": "2023-07-03T20:43:40.926797Z",
     "shell.execute_reply": "2023-07-03T20:43:40.925427Z"
    },
    "papermill": {
     "duration": 1.586671,
     "end_time": "2023-07-03T20:43:40.928871",
     "exception": false,
     "start_time": "2023-07-03T20:43:39.342200",
     "status": "completed"
    },
    "tags": []
   },
   "outputs": [
    {
     "name": "stdout",
     "output_type": "stream",
     "text": [
      "model: LogisticRegression()\n",
      "Train Accuracy: 0.6340288924558587\n",
      "Test Accuracy: 0.6567164179104478\n",
      "\n",
      "\n",
      "model: KNeighborsClassifier(n_neighbors=2)\n",
      "Train Accuracy: 0.8892455858747994\n",
      "Test Accuracy: 0.7761194029850746\n",
      "\n",
      "\n",
      "model: SVC(C=1, kernel='linear')\n",
      "Train Accuracy: 0.6115569823434992\n",
      "Test Accuracy: 0.6268656716417911\n",
      "\n",
      "\n",
      "model: <catboost.core.CatBoostClassifier object at 0x7b92ba12b810>\n",
      "Train Accuracy: 0.9052969502407705\n",
      "Test Accuracy: 0.8246268656716418\n",
      "\n",
      "\n",
      "model: RandomForestClassifier(bootstrap=False, max_depth=7, min_samples_leaf=9)\n",
      "Train Accuracy: 0.8828250401284109\n",
      "Test Accuracy: 0.835820895522388\n",
      "\n",
      "\n"
     ]
    }
   ],
   "source": [
    "for model in [model_LR, model_KNN, model_SVM, model_CB, model_RF]:\n",
    "    model.fit(X_train, y_train)\n",
    "    y_pred_train = model.predict(X_train)\n",
    "    y_pred_test = model.predict(X_test)\n",
    "    \n",
    "    pred_train_df = accuracy_score(y_train, y_pred_train)\n",
    "    pred_test_df = accuracy_score(y_test, y_pred_test)\n",
    "    \n",
    "    print(f\"model: {model}\\nTrain Accuracy: {pred_train_df}\\nTest Accuracy: {pred_test_df}\\n\\n\")"
   ]
  },
  {
   "cell_type": "markdown",
   "id": "f8fe2037",
   "metadata": {
    "papermill": {
     "duration": 0.007872,
     "end_time": "2023-07-03T20:43:40.945033",
     "exception": false,
     "start_time": "2023-07-03T20:43:40.937161",
     "status": "completed"
    },
    "tags": []
   },
   "source": [
    "# Submission"
   ]
  },
  {
   "cell_type": "code",
   "execution_count": 24,
   "id": "d99f1be8",
   "metadata": {
    "execution": {
     "iopub.execute_input": "2023-07-03T20:43:40.962606Z",
     "iopub.status.busy": "2023-07-03T20:43:40.962276Z",
     "iopub.status.idle": "2023-07-03T20:43:40.987913Z",
     "shell.execute_reply": "2023-07-03T20:43:40.987085Z"
    },
    "papermill": {
     "duration": 0.037349,
     "end_time": "2023-07-03T20:43:40.990281",
     "exception": false,
     "start_time": "2023-07-03T20:43:40.952932",
     "status": "completed"
    },
    "tags": []
   },
   "outputs": [
    {
     "name": "stderr",
     "output_type": "stream",
     "text": [
      "/opt/conda/lib/python3.7/site-packages/sklearn/base.py:444: UserWarning: X has feature names, but RandomForestClassifier was fitted without feature names\n",
      "  f\"X has feature names, but {self.__class__.__name__} was fitted without\"\n"
     ]
    }
   ],
   "source": [
    "pred_test = model_RF.predict(test)\n",
    "final = pd.DataFrame({\"PassengerID\": test_df.PassengerId, \"Survived\": pred_test})\n",
    "final.to_csv(\"submission.csv\", index=False)"
   ]
  },
  {
   "cell_type": "code",
   "execution_count": 25,
   "id": "b88f435c",
   "metadata": {
    "execution": {
     "iopub.execute_input": "2023-07-03T20:43:41.007988Z",
     "iopub.status.busy": "2023-07-03T20:43:41.007669Z",
     "iopub.status.idle": "2023-07-03T20:43:41.017681Z",
     "shell.execute_reply": "2023-07-03T20:43:41.016636Z"
    },
    "papermill": {
     "duration": 0.020686,
     "end_time": "2023-07-03T20:43:41.019468",
     "exception": false,
     "start_time": "2023-07-03T20:43:40.998782",
     "status": "completed"
    },
    "tags": []
   },
   "outputs": [
    {
     "data": {
      "text/html": [
       "<div>\n",
       "<style scoped>\n",
       "    .dataframe tbody tr th:only-of-type {\n",
       "        vertical-align: middle;\n",
       "    }\n",
       "\n",
       "    .dataframe tbody tr th {\n",
       "        vertical-align: top;\n",
       "    }\n",
       "\n",
       "    .dataframe thead th {\n",
       "        text-align: right;\n",
       "    }\n",
       "</style>\n",
       "<table border=\"1\" class=\"dataframe\">\n",
       "  <thead>\n",
       "    <tr style=\"text-align: right;\">\n",
       "      <th></th>\n",
       "      <th>PassengerID</th>\n",
       "      <th>Survived</th>\n",
       "    </tr>\n",
       "  </thead>\n",
       "  <tbody>\n",
       "    <tr>\n",
       "      <th>0</th>\n",
       "      <td>892</td>\n",
       "      <td>0</td>\n",
       "    </tr>\n",
       "    <tr>\n",
       "      <th>1</th>\n",
       "      <td>893</td>\n",
       "      <td>1</td>\n",
       "    </tr>\n",
       "    <tr>\n",
       "      <th>2</th>\n",
       "      <td>894</td>\n",
       "      <td>0</td>\n",
       "    </tr>\n",
       "    <tr>\n",
       "      <th>3</th>\n",
       "      <td>895</td>\n",
       "      <td>0</td>\n",
       "    </tr>\n",
       "    <tr>\n",
       "      <th>4</th>\n",
       "      <td>896</td>\n",
       "      <td>1</td>\n",
       "    </tr>\n",
       "    <tr>\n",
       "      <th>...</th>\n",
       "      <td>...</td>\n",
       "      <td>...</td>\n",
       "    </tr>\n",
       "    <tr>\n",
       "      <th>413</th>\n",
       "      <td>1305</td>\n",
       "      <td>0</td>\n",
       "    </tr>\n",
       "    <tr>\n",
       "      <th>414</th>\n",
       "      <td>1306</td>\n",
       "      <td>1</td>\n",
       "    </tr>\n",
       "    <tr>\n",
       "      <th>415</th>\n",
       "      <td>1307</td>\n",
       "      <td>0</td>\n",
       "    </tr>\n",
       "    <tr>\n",
       "      <th>416</th>\n",
       "      <td>1308</td>\n",
       "      <td>0</td>\n",
       "    </tr>\n",
       "    <tr>\n",
       "      <th>417</th>\n",
       "      <td>1309</td>\n",
       "      <td>0</td>\n",
       "    </tr>\n",
       "  </tbody>\n",
       "</table>\n",
       "<p>418 rows × 2 columns</p>\n",
       "</div>"
      ],
      "text/plain": [
       "     PassengerID  Survived\n",
       "0            892         0\n",
       "1            893         1\n",
       "2            894         0\n",
       "3            895         0\n",
       "4            896         1\n",
       "..           ...       ...\n",
       "413         1305         0\n",
       "414         1306         1\n",
       "415         1307         0\n",
       "416         1308         0\n",
       "417         1309         0\n",
       "\n",
       "[418 rows x 2 columns]"
      ]
     },
     "execution_count": 25,
     "metadata": {},
     "output_type": "execute_result"
    }
   ],
   "source": [
    "final"
   ]
  },
  {
   "cell_type": "code",
   "execution_count": null,
   "id": "99666a1e",
   "metadata": {
    "papermill": {
     "duration": 0.007975,
     "end_time": "2023-07-03T20:43:41.035832",
     "exception": false,
     "start_time": "2023-07-03T20:43:41.027857",
     "status": "completed"
    },
    "tags": []
   },
   "outputs": [],
   "source": []
  }
 ],
 "metadata": {
  "kernelspec": {
   "display_name": "Python 3",
   "language": "python",
   "name": "python3"
  },
  "language_info": {
   "codemirror_mode": {
    "name": "ipython",
    "version": 3
   },
   "file_extension": ".py",
   "mimetype": "text/x-python",
   "name": "python",
   "nbconvert_exporter": "python",
   "pygments_lexer": "ipython3",
   "version": "3.7.12"
  },
  "papermill": {
   "default_parameters": {},
   "duration": 15.465959,
   "end_time": "2023-07-03T20:43:43.969947",
   "environment_variables": {},
   "exception": null,
   "input_path": "__notebook__.ipynb",
   "output_path": "__notebook__.ipynb",
   "parameters": {},
   "start_time": "2023-07-03T20:43:28.503988",
   "version": "2.3.4"
  }
 },
 "nbformat": 4,
 "nbformat_minor": 5
}
